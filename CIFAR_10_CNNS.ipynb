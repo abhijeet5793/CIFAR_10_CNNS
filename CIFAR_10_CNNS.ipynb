{
  "nbformat": 4,
  "nbformat_minor": 0,
  "metadata": {
    "colab": {
      "name": "new_as_of_19:20.ipynb",
      "version": "0.3.2",
      "provenance": [],
      "collapsed_sections": []
    },
    "language_info": {
      "codemirror_mode": {
        "name": "ipython",
        "version": 3
      },
      "file_extension": ".py",
      "mimetype": "text/x-python",
      "name": "python",
      "nbconvert_exporter": "python",
      "pygments_lexer": "ipython3",
      "version": "3.6.5"
    },
    "kernelspec": {
      "name": "python3",
      "display_name": "Python 3"
    },
    "accelerator": "GPU"
  },
  "cells": [
    {
      "cell_type": "markdown",
      "metadata": {
        "id": "nqPI475juDWp",
        "colab_type": "text"
      },
      "source": [
        "#**Original** **dataset** **has** **these** **as** **its** **original** **labels**.\n",
        "#**Airplane** : 0\n",
        "\n",
        "#**Automobile** : 1\n",
        "\n",
        "#**Bird** : 2\n",
        "\n",
        "#**Cat** : 3\n",
        "\n",
        "#**Deer** : 4\n",
        "\n",
        "#**Dog** : 5\n",
        "\n",
        "#**Frog** : 6\n",
        "\n",
        "#**Horse** : 7\n",
        "\n",
        "#**Ship** : 8\n",
        "\n",
        "# **Truck** : 9\n",
        "\n",
        "```\n",
        "*# This is formatted as code*\n",
        "```\n",
        "\n",
        "\n",
        "\n",
        "# bold text **bold text**"
      ]
    },
    {
      "cell_type": "markdown",
      "metadata": {
        "id": "SUXyMOGN8D3J",
        "colab_type": "text"
      },
      "source": [
        "# Importing Libraries"
      ]
    },
    {
      "cell_type": "code",
      "metadata": {
        "id": "VEj5FXkZ8D3K",
        "colab_type": "code",
        "outputId": "25adc664-4e0a-4a4e-d301-c1bc463b8014",
        "colab": {
          "base_uri": "https://localhost:8080/",
          "height": 34
        }
      },
      "source": [
        "import pickle\n",
        "import pandas as pd\n",
        "import numpy as np\n",
        "import random \n",
        "import matplotlib.pyplot as plt\n",
        "import keras as k\n",
        "from sklearn.datasets import fetch_mldata\n",
        "from sklearn.decomposition import PCA\n",
        "from sklearn.manifold import TSNE\n",
        "\n",
        "%matplotlib inline\n",
        "import matplotlib.pyplot as plt\n",
        "from mpl_toolkits.mplot3d import Axes3D\n",
        "import seaborn as sns"
      ],
      "execution_count": 2,
      "outputs": [
        {
          "output_type": "stream",
          "text": [
            "Using TensorFlow backend.\n"
          ],
          "name": "stderr"
        }
      ]
    },
    {
      "cell_type": "code",
      "metadata": {
        "id": "9HIA6J598D3N",
        "colab_type": "code",
        "colab": {}
      },
      "source": [
        "import keras\n",
        "from keras.datasets import cifar10\n",
        "from keras.models import Sequential\n",
        "from keras.layers import Dense, Dropout, Flatten\n",
        "from keras.layers import Conv2D, MaxPooling2D, BatchNormalization\n",
        "from keras import backend as K\n",
        "from keras.regularizers import Regularizer\n",
        "import keras.regularizers\n",
        "from keras.preprocessing.image import ImageDataGenerator\n",
        "from keras.optimizers import SGD, Adam"
      ],
      "execution_count": 0,
      "outputs": []
    },
    {
      "cell_type": "markdown",
      "metadata": {
        "id": "dgE-eWV18D3R",
        "colab_type": "text"
      },
      "source": [
        "# Importing Data"
      ]
    },
    {
      "cell_type": "code",
      "metadata": {
        "id": "bxxQk4Ua8D3R",
        "colab_type": "code",
        "outputId": "ff2c73dd-8a0e-4772-efb5-4b9c1a57f179",
        "colab": {
          "base_uri": "https://localhost:8080/",
          "height": 303
        }
      },
      "source": [
        "(x_train, y_train), (x_test, y_test) = cifar10.load_data()\n",
        "img_rows, img_cols , channels= 32,32,3\n",
        "for i in range(0,9):\n",
        "    plt.subplot(330 + 1 + i)\n",
        "    plt.imshow(x_train[i])\n",
        "plt.show()"
      ],
      "execution_count": 0,
      "outputs": [
        {
          "output_type": "stream",
          "text": [
            "Downloading data from https://www.cs.toronto.edu/~kriz/cifar-10-python.tar.gz\n",
            "170500096/170498071 [==============================] - 80s 0us/step\n"
          ],
          "name": "stdout"
        },
        {
          "output_type": "display_data",
          "data": {
            "image/png": "[encoded data removed]",
            "text/plain": [
              "<Figure size 432x288 with 9 Axes>"
            ]
          },
          "metadata": {
            "tags": []
          }
        }
      ]
    },
    {
      "cell_type": "markdown",
      "metadata": {
        "id": "On_yB6kluvSJ",
        "colab_type": "text"
      },
      "source": [
        "#**Creating Train-Test-Validation sets**\n",
        "\n",
        "```\n",
        "# This is formatted as code\n",
        "```\n",
        "\n"
      ]
    },
    {
      "cell_type": "code",
      "metadata": {
        "id": "4aIg3bNA8D3U",
        "colab_type": "code",
        "colab": {}
      },
      "source": [
        "x_val_1= x_test\n",
        "y_val_1= y_test\n",
        "x_val_2= x_train[45_000:]\n",
        "y_val_2= y_train[45_000:]\n"
      ],
      "execution_count": 0,
      "outputs": []
    },
    {
      "cell_type": "markdown",
      "metadata": {
        "id": "1knyE3PN2p3m",
        "colab_type": "text"
      },
      "source": [
        "#**Check if Validation set is unique or not**"
      ]
    },
    {
      "cell_type": "code",
      "metadata": {
        "scrolled": true,
        "id": "wyvUARqc8D3W",
        "colab_type": "code",
        "outputId": "bef8e555-1d89-4776-d1a8-a13867bdbddf",
        "colab": {
          "base_uri": "https://localhost:8080/",
          "height": 51
        }
      },
      "source": [
        "np.unique(y_val_1, return_counts=True)"
      ],
      "execution_count": 0,
      "outputs": [
        {
          "output_type": "execute_result",
          "data": {
            "text/plain": [
              "(array([0, 1, 2, 3, 4, 5, 6, 7, 8, 9]),\n",
              " array([1000, 1000, 1000, 1000, 1000, 1000, 1000, 1000, 1000, 1000]))"
            ]
          },
          "metadata": {
            "tags": []
          },
          "execution_count": 6
        }
      ]
    },
    {
      "cell_type": "code",
      "metadata": {
        "id": "b1RfBrqP8D3b",
        "colab_type": "code",
        "outputId": "55c9e718-4b91-428d-df35-9e98fe8b2357",
        "colab": {
          "base_uri": "https://localhost:8080/",
          "height": 51
        }
      },
      "source": [
        "np.unique(y_val_2, return_counts=True)"
      ],
      "execution_count": 0,
      "outputs": [
        {
          "output_type": "execute_result",
          "data": {
            "text/plain": [
              "(array([0, 1, 2, 3, 4, 5, 6, 7, 8, 9], dtype=uint8),\n",
              " array([493, 488, 479, 519, 475, 529, 488, 485, 532, 512]))"
            ]
          },
          "metadata": {
            "tags": []
          },
          "execution_count": 7
        }
      ]
    },
    {
      "cell_type": "markdown",
      "metadata": {
        "id": "qEuF_roCvNJ0",
        "colab_type": "text"
      },
      "source": [
        "#**Data augmentation, to change how the data look in different angles to get a better idea for genralisation**\n"
      ]
    },
    {
      "cell_type": "code",
      "metadata": {
        "id": "hiSx5a5b8D3f",
        "colab_type": "code",
        "colab": {}
      },
      "source": [
        "datagen = ImageDataGenerator(\n",
        "    rotation_range=15,\n",
        "    horizontal_flip=True,\n",
        "    width_shift_range=0.15,\n",
        "    height_shift_range=0.15,\n",
        "    #zoom_range=0.3\n",
        "    )\n",
        "\n"
      ],
      "execution_count": 0,
      "outputs": []
    },
    {
      "cell_type": "code",
      "metadata": {
        "id": "UPSRnWel8D3o",
        "colab_type": "code",
        "colab": {}
      },
      "source": [
        "datagen.fit(x_train)"
      ],
      "execution_count": 0,
      "outputs": []
    },
    {
      "cell_type": "code",
      "metadata": {
        "id": "VNoTy8BR8D3s",
        "colab_type": "code",
        "outputId": "eaab3c16-284e-49de-b27a-b2d2e2045ec2",
        "colab": {
          "base_uri": "https://localhost:8080/",
          "height": 269
        }
      },
      "source": [
        "for X_batch, y_batch in datagen.flow(x_train, y_train, batch_size=9):\n",
        "    for i in range(0, 9):\n",
        "        plt.subplot(330 + 1 + i)\n",
        "        plt.imshow(X_batch[i].astype(np.uint8))\n",
        "        plt.xticks()\n",
        "        plt.yticks()\n",
        "    plt.show()\n",
        "    break\n"
      ],
      "execution_count": 0,
      "outputs": [
        {
          "output_type": "display_data",
          "data": {
            "image/png": "[encoded data removed]",
            "text/plain": [
              "<Figure size 432x288 with 9 Axes>"
            ]
          },
          "metadata": {
            "tags": []
          }
        }
      ]
    },
    {
      "cell_type": "code",
      "metadata": {
        "id": "VNlA42Qe8D3v",
        "colab_type": "code",
        "colab": {}
      },
      "source": [
        "num_classes=10"
      ],
      "execution_count": 0,
      "outputs": []
    },
    {
      "cell_type": "code",
      "metadata": {
        "id": "Vw4v0vwG8D3x",
        "colab_type": "code",
        "outputId": "2920881f-29f1-4686-9e51-6308d1ee2387",
        "colab": {
          "base_uri": "https://localhost:8080/",
          "height": 68
        }
      },
      "source": [
        "x_train = x_train.astype('float32')\n",
        "x_val_1 = x_val_1.astype('float32')\n",
        "x_train /= 255\n",
        "x_val_1 /= 255\n",
        "print('x_train shape:', x_train.shape)\n",
        "print(x_train.shape[0], 'train samples')\n",
        "print(x_val_1.shape[0], 'test samples')"
      ],
      "execution_count": 0,
      "outputs": [
        {
          "output_type": "stream",
          "text": [
            "x_train shape: (50000, 32, 32, 3)\n",
            "50000 train samples\n",
            "10000 test samples\n"
          ],
          "name": "stdout"
        }
      ]
    },
    {
      "cell_type": "markdown",
      "metadata": {
        "id": "9Z3U49KY29Yq",
        "colab_type": "text"
      },
      "source": [
        "#**labels (convert to binary classes)**"
      ]
    },
    {
      "cell_type": "code",
      "metadata": {
        "id": "Z3m-ecpQUnr7",
        "colab_type": "code",
        "colab": {}
      },
      "source": [
        "\n",
        "num_classes = 10\n",
        "y_train = k.utils.to_categorical(y_train, num_classes)\n",
        "y_val_1 = k.utils.to_categorical(y_val_1, num_classes)"
      ],
      "execution_count": 0,
      "outputs": []
    },
    {
      "cell_type": "code",
      "metadata": {
        "id": "rtrI0F28cwwe",
        "colab_type": "code",
        "colab": {}
      },
      "source": [
        "#convert integers to float; normalise and center the mean\n",
        "x_train=x_train.astype(\"float32\")  \n",
        "x_val_1=x_val_1.astype(\"float32\")\n",
        "mean=np.mean(x_train)\n",
        "std=np.std(x_train)\n",
        "x_val_1=(x_val_1-mean)/std\n",
        "x_train=(x_train-mean)/std"
      ],
      "execution_count": 0,
      "outputs": []
    },
    {
      "cell_type": "code",
      "metadata": {
        "id": "DJFz4aS68D3h",
        "colab_type": "code",
        "colab": {}
      },
      "source": [
        "def plot_histogram(hist):\n",
        "    plt.plot(hist.H2['acc'])\n",
        "    plt.plot(hist.H2['val_acc'])\n",
        "    plt.title('model evaluation')\n",
        "    plt.ylabel('accuracy')\n",
        "    plt.xlabel('epoch')\n",
        "    plt.legend(['train', 'test'], loc = 'bottom right')"
      ],
      "execution_count": 0,
      "outputs": []
    },
    {
      "cell_type": "markdown",
      "metadata": {
        "id": "HyPx4B5Z8D30",
        "colab_type": "text"
      },
      "source": [
        "# Making Neural Net"
      ]
    },
    {
      "cell_type": "code",
      "metadata": {
        "id": "Tb5dXOnY8D30",
        "colab_type": "code",
        "colab": {}
      },
      "source": [
        "batch_size = 500\n",
        "epochs = 1"
      ],
      "execution_count": 0,
      "outputs": []
    },
    {
      "cell_type": "code",
      "metadata": {
        "id": "D2ke_3dOMx3D",
        "colab_type": "code",
        "colab": {}
      },
      "source": [
        "# reg_rate= 10**-5\n",
        "# conv_dim= 3\n",
        "# pool_dim= 2\n",
        "# act= 'relu'\n",
        "# dropout_rate= 0.5\n",
        "# conv_neurons= 100\n",
        "# normal_neurons= 110"
      ],
      "execution_count": 0,
      "outputs": []
    },
    {
      "cell_type": "code",
      "metadata": {
        "id": "ZPyUKLjFVBSR",
        "colab_type": "code",
        "outputId": "85d0331e-361d-4552-8235-1c2ddbaa6567",
        "colab": {
          "base_uri": "https://localhost:8080/",
          "height": 139
        }
      },
      "source": [
        "# build and compile the model  (roughly following the VGG paper)\n",
        "reg_rate= 10**-5\n",
        "conv_dim= 3\n",
        "pool_dim= 2\n",
        "act= 'relu'\n",
        "dropout_rate= 0.5\n",
        "conv_neurons= 120\n",
        "normal_neurons= 180\n",
        "\n",
        "\n",
        "model = Sequential()\n",
        "model.add(Conv2D(conv_neurons, kernel_size=(conv_dim, conv_dim), activation=act, input_shape=(32,32,3)))\n",
        "model.add(Conv2D(conv_neurons, (conv_dim, conv_dim), activation=act))\n",
        "model.add(Conv2D(conv_neurons, (conv_dim, conv_dim), activation=act))\n",
        "\n",
        "\n",
        "model.add(MaxPooling2D(pool_size=(pool_dim, pool_dim)))\n",
        "model.add(Dropout(dropout_rate))\n",
        "model.add(Conv2D(conv_neurons, (conv_dim, conv_dim), activation=act))\n",
        "model.add(Conv2D(conv_neurons, (conv_dim, conv_dim), activation=act))\n",
        "model.add(Conv2D(conv_neurons, (conv_dim, conv_dim), activation=act))\n",
        "\n",
        "\n",
        "model.add(MaxPooling2D(pool_size=(pool_dim, pool_dim)))\n",
        "model.add(Dropout(dropout_rate))\n",
        "model.add(Flatten())\n",
        "\n",
        "model.add(Dense(normal_neurons, activation=act, activity_regularizer=keras.regularizers.l2(reg_rate)))\n",
        "\n",
        "model.add(Dropout(dropout_rate))\n",
        "model.add(Dense(num_classes, activation='softmax'))\n",
        "model.compile(loss=keras.losses.categorical_crossentropy,\n",
        "              optimizer=keras.optimizers.Adadelta(),\n",
        "              metrics=['accuracy'])"
      ],
      "execution_count": 0,
      "outputs": [
        {
          "output_type": "stream",
          "text": [
            "WARNING:tensorflow:From /usr/local/lib/python3.6/dist-packages/tensorflow/python/framework/op_def_library.py:263: colocate_with (from tensorflow.python.framework.ops) is deprecated and will be removed in a future version.\n",
            "Instructions for updating:\n",
            "Colocations handled automatically by placer.\n",
            "WARNING:tensorflow:From /usr/local/lib/python3.6/dist-packages/keras/backend/tensorflow_backend.py:3445: calling dropout (from tensorflow.python.ops.nn_ops) with keep_prob is deprecated and will be removed in a future version.\n",
            "Instructions for updating:\n",
            "Please use `rate` instead of `keep_prob`. Rate should be set to `rate = 1 - keep_prob`.\n"
          ],
          "name": "stdout"
        }
      ]
    },
    {
      "cell_type": "code",
      "metadata": {
        "id": "e1J0kuL8lAyj",
        "colab_type": "code",
        "colab": {}
      },
      "source": [
        "x_train_5= np.concatenate((x_train, x_train, x_train, x_train, x_train))"
      ],
      "execution_count": 0,
      "outputs": []
    },
    {
      "cell_type": "code",
      "metadata": {
        "id": "WAIEMNXKlfT3",
        "colab_type": "code",
        "colab": {}
      },
      "source": [
        "y_train_5 = np.concatenate((y_train, y_train, y_train, y_train, y_train))"
      ],
      "execution_count": 0,
      "outputs": []
    },
    {
      "cell_type": "code",
      "metadata": {
        "id": "zo6DEkqg8D3-",
        "colab_type": "code",
        "outputId": "34d8a3a6-be0f-45b6-8665-6dff46723c73",
        "colab": {
          "base_uri": "https://localhost:8080/",
          "height": 1717
        }
      },
      "source": [
        "history =model.fit_generator(datagen.flow(x_train_5, y_train_5, batch_size=1000),\n",
        "                    steps_per_epoch = len(x_train_5) / 1000, epochs=50, validation_data=(x_val_1, y_val_1))"
      ],
      "execution_count": 0,
      "outputs": [
        {
          "output_type": "stream",
          "text": [
            "Epoch 1/50\n",
            "250/250 [==============================] - 154s 615ms/step - loss: 1.6778 - acc: 0.4047 - val_loss: 1.4674 - val_acc: 0.4916\n",
            "Epoch 2/50\n",
            "250/250 [==============================] - 147s 589ms/step - loss: 1.5241 - acc: 0.4680 - val_loss: 1.3426 - val_acc: 0.5439\n",
            "Epoch 3/50\n",
            "250/250 [==============================] - 148s 593ms/step - loss: 1.3981 - acc: 0.5177 - val_loss: 1.1308 - val_acc: 0.6292\n",
            "Epoch 4/50\n",
            "250/250 [==============================] - 148s 590ms/step - loss: 1.3007 - acc: 0.5576 - val_loss: 1.1011 - val_acc: 0.6221\n",
            "Epoch 5/50\n",
            "250/250 [==============================] - 148s 591ms/step - loss: 1.2104 - acc: 0.5947 - val_loss: 1.0900 - val_acc: 0.6269\n",
            "Epoch 6/50\n",
            "250/250 [==============================] - 149s 596ms/step - loss: 1.1328 - acc: 0.6237 - val_loss: 0.9033 - val_acc: 0.7092\n",
            "Epoch 7/50\n",
            "250/250 [==============================] - 146s 585ms/step - loss: 1.0681 - acc: 0.6479 - val_loss: 0.8983 - val_acc: 0.7106\n",
            "Epoch 8/50\n",
            "250/250 [==============================] - 149s 598ms/step - loss: 1.0105 - acc: 0.6686 - val_loss: 0.9010 - val_acc: 0.7099\n",
            "Epoch 9/50\n",
            "250/250 [==============================] - 147s 586ms/step - loss: 0.9620 - acc: 0.6876 - val_loss: 0.8611 - val_acc: 0.7199\n",
            "Epoch 10/50\n",
            "250/250 [==============================] - 149s 596ms/step - loss: 0.9169 - acc: 0.7032 - val_loss: 0.8161 - val_acc: 0.7411\n",
            "Epoch 11/50\n",
            "250/250 [==============================] - 146s 585ms/step - loss: 0.8798 - acc: 0.7150 - val_loss: 0.7226 - val_acc: 0.7669\n",
            "Epoch 12/50\n",
            "250/250 [==============================] - 149s 596ms/step - loss: 0.8475 - acc: 0.7271 - val_loss: 0.7906 - val_acc: 0.7494\n",
            "Epoch 13/50\n",
            "250/250 [==============================] - 146s 583ms/step - loss: 0.8220 - acc: 0.7359 - val_loss: 0.7071 - val_acc: 0.7792\n",
            "Epoch 14/50\n",
            "250/250 [==============================] - 149s 594ms/step - loss: 0.7904 - acc: 0.7478 - val_loss: 0.7017 - val_acc: 0.7762\n",
            "Epoch 15/50\n",
            "250/250 [==============================] - 145s 581ms/step - loss: 0.7752 - acc: 0.7529 - val_loss: 0.8138 - val_acc: 0.7471\n",
            "Epoch 16/50\n",
            "250/250 [==============================] - 148s 593ms/step - loss: 0.7478 - acc: 0.7615 - val_loss: 0.7397 - val_acc: 0.7651\n",
            "Epoch 17/50\n",
            "250/250 [==============================] - 146s 583ms/step - loss: 0.7299 - acc: 0.7680 - val_loss: 0.6105 - val_acc: 0.8099\n",
            "Epoch 18/50\n",
            "250/250 [==============================] - 149s 596ms/step - loss: 0.7130 - acc: 0.7741 - val_loss: 0.6802 - val_acc: 0.7879\n",
            "Epoch 19/50\n",
            "250/250 [==============================] - 146s 585ms/step - loss: 0.6935 - acc: 0.7801 - val_loss: 0.6771 - val_acc: 0.7881\n",
            "Epoch 20/50\n",
            "250/250 [==============================] - 149s 596ms/step - loss: 0.6842 - acc: 0.7842 - val_loss: 0.6600 - val_acc: 0.7936\n",
            "Epoch 21/50\n",
            "250/250 [==============================] - 146s 584ms/step - loss: 0.6719 - acc: 0.7880 - val_loss: 0.6344 - val_acc: 0.8032\n",
            "Epoch 22/50\n",
            "250/250 [==============================] - 148s 591ms/step - loss: 0.6540 - acc: 0.7937 - val_loss: 0.6444 - val_acc: 0.8012\n",
            "Epoch 23/50\n",
            "250/250 [==============================] - 146s 585ms/step - loss: 0.6424 - acc: 0.7969 - val_loss: 0.6124 - val_acc: 0.8087\n",
            "Epoch 24/50\n",
            "250/250 [==============================] - 147s 587ms/step - loss: 0.6329 - acc: 0.8000 - val_loss: 0.5877 - val_acc: 0.8149\n",
            "Epoch 25/50\n",
            "250/250 [==============================] - 147s 589ms/step - loss: 0.6236 - acc: 0.8046 - val_loss: 0.6044 - val_acc: 0.8096\n",
            "Epoch 26/50\n",
            "250/250 [==============================] - 147s 587ms/step - loss: 0.6151 - acc: 0.8066 - val_loss: 0.5128 - val_acc: 0.8383\n",
            "Epoch 27/50\n",
            "250/250 [==============================] - 148s 592ms/step - loss: 0.6050 - acc: 0.8103 - val_loss: 0.5555 - val_acc: 0.8297\n",
            "Epoch 28/50\n",
            "250/250 [==============================] - 147s 587ms/step - loss: 0.5975 - acc: 0.8130 - val_loss: 0.5940 - val_acc: 0.8123\n",
            "Epoch 29/50\n",
            "250/250 [==============================] - 148s 590ms/step - loss: 0.5897 - acc: 0.8148 - val_loss: 0.5523 - val_acc: 0.8288\n",
            "Epoch 30/50\n",
            "250/250 [==============================] - 146s 583ms/step - loss: 0.5830 - acc: 0.8171 - val_loss: 0.5532 - val_acc: 0.8308\n",
            "Epoch 31/50\n",
            "250/250 [==============================] - 149s 595ms/step - loss: 0.5783 - acc: 0.8190 - val_loss: 0.4834 - val_acc: 0.8475\n",
            "Epoch 32/50\n",
            "250/250 [==============================] - 146s 585ms/step - loss: 0.5680 - acc: 0.8227 - val_loss: 0.5110 - val_acc: 0.8396\n",
            "Epoch 33/50\n",
            "250/250 [==============================] - 149s 595ms/step - loss: 0.5628 - acc: 0.8245 - val_loss: 0.5042 - val_acc: 0.8426\n",
            "Epoch 34/50\n",
            "250/250 [==============================] - 146s 583ms/step - loss: 0.5572 - acc: 0.8258 - val_loss: 0.5142 - val_acc: 0.8429\n",
            "Epoch 35/50\n",
            "250/250 [==============================] - 148s 593ms/step - loss: 0.5505 - acc: 0.8272 - val_loss: 0.4945 - val_acc: 0.8428\n",
            "Epoch 36/50\n",
            "250/250 [==============================] - 146s 583ms/step - loss: 0.5465 - acc: 0.8288 - val_loss: 0.5521 - val_acc: 0.8286\n",
            "Epoch 37/50\n",
            "250/250 [==============================] - 149s 597ms/step - loss: 0.5461 - acc: 0.8296 - val_loss: 0.4617 - val_acc: 0.8579\n",
            "Epoch 38/50\n",
            "250/250 [==============================] - 146s 582ms/step - loss: 0.5368 - acc: 0.8324 - val_loss: 0.5482 - val_acc: 0.8318\n",
            "Epoch 39/50\n",
            "250/250 [==============================] - 148s 593ms/step - loss: 0.5309 - acc: 0.8344 - val_loss: 0.5040 - val_acc: 0.8458\n",
            "Epoch 40/50\n",
            "250/250 [==============================] - 145s 581ms/step - loss: 0.5279 - acc: 0.8354 - val_loss: 0.4666 - val_acc: 0.8567\n",
            "Epoch 41/50\n",
            "250/250 [==============================] - 148s 591ms/step - loss: 0.5247 - acc: 0.8366 - val_loss: 0.5502 - val_acc: 0.8296\n",
            "Epoch 42/50\n",
            "250/250 [==============================] - 146s 583ms/step - loss: 0.5190 - acc: 0.8375 - val_loss: 0.4943 - val_acc: 0.8510\n",
            "Epoch 43/50\n",
            "250/250 [==============================] - 146s 585ms/step - loss: 0.5130 - acc: 0.8416 - val_loss: 0.5866 - val_acc: 0.8220\n",
            "Epoch 44/50\n",
            "250/250 [==============================] - 147s 588ms/step - loss: 0.5088 - acc: 0.8420 - val_loss: 0.5085 - val_acc: 0.8433\n",
            "Epoch 45/50\n",
            "250/250 [==============================] - 146s 585ms/step - loss: 0.5054 - acc: 0.8428 - val_loss: 0.5615 - val_acc: 0.8364\n",
            "Epoch 46/50\n",
            "250/250 [==============================] - 147s 590ms/step - loss: 0.5031 - acc: 0.8434 - val_loss: 0.5272 - val_acc: 0.8395\n",
            "Epoch 47/50\n",
            "250/250 [==============================] - 147s 588ms/step - loss: 0.5008 - acc: 0.8441 - val_loss: 0.4683 - val_acc: 0.8562\n",
            "Epoch 48/50\n",
            "250/250 [==============================] - 148s 592ms/step - loss: 0.4937 - acc: 0.8468 - val_loss: 0.5998 - val_acc: 0.8214\n",
            "Epoch 49/50\n",
            "250/250 [==============================] - 147s 587ms/step - loss: 0.4966 - acc: 0.8455 - val_loss: 0.4729 - val_acc: 0.8534\n",
            "Epoch 50/50\n",
            "250/250 [==============================] - 147s 590ms/step - loss: 0.4943 - acc: 0.8467 - val_loss: 0.6289 - val_acc: 0.8128\n"
          ],
          "name": "stdout"
        }
      ]
    },
    {
      "cell_type": "code",
      "metadata": {
        "id": "3oit5o8eKAEM",
        "colab_type": "code",
        "outputId": "48432bec-25e1-4ce5-d4b5-8df42796193c",
        "colab": {
          "base_uri": "https://localhost:8080/",
          "height": 612
        }
      },
      "source": [
        "model.summary()"
      ],
      "execution_count": 0,
      "outputs": [
        {
          "output_type": "stream",
          "text": [
            "_________________________________________________________________\n",
            "Layer (type)                 Output Shape              Param #   \n",
            "=================================================================\n",
            "conv2d_1 (Conv2D)            (None, 30, 30, 120)       3360      \n",
            "_________________________________________________________________\n",
            "conv2d_2 (Conv2D)            (None, 28, 28, 120)       129720    \n",
            "_________________________________________________________________\n",
            "conv2d_3 (Conv2D)            (None, 26, 26, 120)       129720    \n",
            "_________________________________________________________________\n",
            "max_pooling2d_1 (MaxPooling2 (None, 13, 13, 120)       0         \n",
            "_________________________________________________________________\n",
            "dropout_1 (Dropout)          (None, 13, 13, 120)       0         \n",
            "_________________________________________________________________\n",
            "conv2d_4 (Conv2D)            (None, 11, 11, 120)       129720    \n",
            "_________________________________________________________________\n",
            "conv2d_5 (Conv2D)            (None, 9, 9, 120)         129720    \n",
            "_________________________________________________________________\n",
            "conv2d_6 (Conv2D)            (None, 7, 7, 120)         129720    \n",
            "_________________________________________________________________\n",
            "max_pooling2d_2 (MaxPooling2 (None, 3, 3, 120)         0         \n",
            "_________________________________________________________________\n",
            "dropout_2 (Dropout)          (None, 3, 3, 120)         0         \n",
            "_________________________________________________________________\n",
            "flatten_1 (Flatten)          (None, 1080)              0         \n",
            "_________________________________________________________________\n",
            "dense_1 (Dense)              (None, 180)               194580    \n",
            "_________________________________________________________________\n",
            "dropout_3 (Dropout)          (None, 180)               0         \n",
            "_________________________________________________________________\n",
            "dense_2 (Dense)              (None, 10)                1810      \n",
            "=================================================================\n",
            "Total params: 848,350\n",
            "Trainable params: 848,350\n",
            "Non-trainable params: 0\n",
            "_________________________________________________________________\n"
          ],
          "name": "stdout"
        }
      ]
    },
    {
      "cell_type": "code",
      "metadata": {
        "id": "SG3qUNMqqpNu",
        "colab_type": "code",
        "outputId": "b001a584-ea73-49c6-cffe-a4a3f33d3202",
        "colab": {
          "base_uri": "https://localhost:8080/",
          "height": 3434
        }
      },
      "source": [
        "H2 = model.fit(x_train, y_train,\n",
        "          batch_size=batch_size,\n",
        "          epochs=100,\n",
        "          verbose=1,\n",
        "          validation_data=(x_val_1, y_val_1))"
      ],
      "execution_count": 0,
      "outputs": [
        {
          "output_type": "stream",
          "text": [
            "Train on 50000 samples, validate on 10000 samples\n",
            "Epoch 1/100\n",
            "50000/50000 [==============================] - 34s 679us/step - loss: 0.3667 - acc: 0.8863 - val_loss: 0.4737 - val_acc: 0.8524\n",
            "Epoch 2/100\n",
            "50000/50000 [==============================] - 32s 632us/step - loss: 0.3428 - acc: 0.8941 - val_loss: 0.4395 - val_acc: 0.8597\n",
            "Epoch 3/100\n",
            "50000/50000 [==============================] - 32s 633us/step - loss: 0.3316 - acc: 0.8978 - val_loss: 0.4437 - val_acc: 0.8607\n",
            "Epoch 4/100\n",
            "50000/50000 [==============================] - 32s 632us/step - loss: 0.3109 - acc: 0.9034 - val_loss: 0.4378 - val_acc: 0.8673\n",
            "Epoch 5/100\n",
            "50000/50000 [==============================] - 32s 632us/step - loss: 0.3008 - acc: 0.9075 - val_loss: 0.4442 - val_acc: 0.8629\n",
            "Epoch 6/100\n",
            "50000/50000 [==============================] - 32s 631us/step - loss: 0.2925 - acc: 0.9111 - val_loss: 0.4513 - val_acc: 0.8596\n",
            "Epoch 7/100\n",
            "50000/50000 [==============================] - 32s 633us/step - loss: 0.2903 - acc: 0.9101 - val_loss: 0.4372 - val_acc: 0.8676\n",
            "Epoch 8/100\n",
            "50000/50000 [==============================] - 32s 633us/step - loss: 0.2885 - acc: 0.9123 - val_loss: 0.4563 - val_acc: 0.8646\n",
            "Epoch 9/100\n",
            "50000/50000 [==============================] - 32s 632us/step - loss: 0.2751 - acc: 0.9162 - val_loss: 0.4539 - val_acc: 0.8595\n",
            "Epoch 10/100\n",
            "50000/50000 [==============================] - 31s 630us/step - loss: 0.2703 - acc: 0.9172 - val_loss: 0.4648 - val_acc: 0.8616\n",
            "Epoch 11/100\n",
            "50000/50000 [==============================] - 32s 630us/step - loss: 0.2644 - acc: 0.9196 - val_loss: 0.4499 - val_acc: 0.8627\n",
            "Epoch 12/100\n",
            "50000/50000 [==============================] - 31s 628us/step - loss: 0.2649 - acc: 0.9190 - val_loss: 0.4686 - val_acc: 0.8622\n",
            "Epoch 13/100\n",
            "50000/50000 [==============================] - 31s 628us/step - loss: 0.2603 - acc: 0.9207 - val_loss: 0.4620 - val_acc: 0.8623\n",
            "Epoch 14/100\n",
            "50000/50000 [==============================] - 31s 627us/step - loss: 0.2570 - acc: 0.9230 - val_loss: 0.4605 - val_acc: 0.8615\n",
            "Epoch 15/100\n",
            "50000/50000 [==============================] - 31s 630us/step - loss: 0.2436 - acc: 0.9273 - val_loss: 0.4414 - val_acc: 0.8676\n",
            "Epoch 16/100\n",
            "50000/50000 [==============================] - 31s 629us/step - loss: 0.2477 - acc: 0.9254 - val_loss: 0.4470 - val_acc: 0.8641\n",
            "Epoch 17/100\n",
            "50000/50000 [==============================] - 31s 627us/step - loss: 0.2451 - acc: 0.9257 - val_loss: 0.4874 - val_acc: 0.8569\n",
            "Epoch 18/100\n",
            "50000/50000 [==============================] - 31s 630us/step - loss: 0.2430 - acc: 0.9276 - val_loss: 0.4866 - val_acc: 0.8600\n",
            "Epoch 19/100\n",
            "50000/50000 [==============================] - 31s 630us/step - loss: 0.2367 - acc: 0.9303 - val_loss: 0.4983 - val_acc: 0.8589\n",
            "Epoch 20/100\n",
            "50000/50000 [==============================] - 31s 628us/step - loss: 0.2363 - acc: 0.9297 - val_loss: 0.4763 - val_acc: 0.8621\n",
            "Epoch 21/100\n",
            "50000/50000 [==============================] - 31s 629us/step - loss: 0.2229 - acc: 0.9340 - val_loss: 0.4700 - val_acc: 0.8636\n",
            "Epoch 22/100\n",
            "50000/50000 [==============================] - 31s 628us/step - loss: 0.2293 - acc: 0.9327 - val_loss: 0.4697 - val_acc: 0.8620\n",
            "Epoch 23/100\n",
            "50000/50000 [==============================] - 31s 629us/step - loss: 0.2282 - acc: 0.9319 - val_loss: 0.4795 - val_acc: 0.8609\n",
            "Epoch 24/100\n",
            "50000/50000 [==============================] - 31s 628us/step - loss: 0.2252 - acc: 0.9349 - val_loss: 0.4722 - val_acc: 0.8651\n",
            "Epoch 25/100\n",
            "50000/50000 [==============================] - 31s 628us/step - loss: 0.2218 - acc: 0.9355 - val_loss: 0.4862 - val_acc: 0.8578\n",
            "Epoch 26/100\n",
            "50000/50000 [==============================] - 31s 628us/step - loss: 0.2229 - acc: 0.9352 - val_loss: 0.4895 - val_acc: 0.8608\n",
            "Epoch 27/100\n",
            "50000/50000 [==============================] - 31s 627us/step - loss: 0.2168 - acc: 0.9370 - val_loss: 0.4729 - val_acc: 0.8611\n",
            "Epoch 28/100\n",
            "50000/50000 [==============================] - 31s 627us/step - loss: 0.2132 - acc: 0.9382 - val_loss: 0.4743 - val_acc: 0.8666\n",
            "Epoch 29/100\n",
            "50000/50000 [==============================] - 31s 628us/step - loss: 0.2172 - acc: 0.9363 - val_loss: 0.4622 - val_acc: 0.8633\n",
            "Epoch 30/100\n",
            "50000/50000 [==============================] - 31s 627us/step - loss: 0.2109 - acc: 0.9384 - val_loss: 0.4995 - val_acc: 0.8587\n",
            "Epoch 31/100\n",
            "50000/50000 [==============================] - 31s 626us/step - loss: 0.2083 - acc: 0.9396 - val_loss: 0.4899 - val_acc: 0.8619\n",
            "Epoch 32/100\n",
            "50000/50000 [==============================] - 31s 628us/step - loss: 0.2136 - acc: 0.9378 - val_loss: 0.4928 - val_acc: 0.8625\n",
            "Epoch 33/100\n",
            "50000/50000 [==============================] - 31s 625us/step - loss: 0.2065 - acc: 0.9398 - val_loss: 0.4832 - val_acc: 0.8617\n",
            "Epoch 34/100\n",
            "50000/50000 [==============================] - 31s 627us/step - loss: 0.2057 - acc: 0.9399 - val_loss: 0.5058 - val_acc: 0.8601\n",
            "Epoch 35/100\n",
            "50000/50000 [==============================] - 31s 627us/step - loss: 0.2062 - acc: 0.9401 - val_loss: 0.5016 - val_acc: 0.8610\n",
            "Epoch 36/100\n",
            "50000/50000 [==============================] - 31s 628us/step - loss: 0.2022 - acc: 0.9418 - val_loss: 0.4971 - val_acc: 0.8623\n",
            "Epoch 37/100\n",
            "50000/50000 [==============================] - 31s 626us/step - loss: 0.1969 - acc: 0.9434 - val_loss: 0.5156 - val_acc: 0.8619\n",
            "Epoch 38/100\n",
            "50000/50000 [==============================] - 31s 629us/step - loss: 0.2003 - acc: 0.9412 - val_loss: 0.5608 - val_acc: 0.8445\n",
            "Epoch 39/100\n",
            "50000/50000 [==============================] - 31s 629us/step - loss: 0.1957 - acc: 0.9442 - val_loss: 0.5004 - val_acc: 0.8579\n",
            "Epoch 40/100\n",
            "50000/50000 [==============================] - 31s 628us/step - loss: 0.1942 - acc: 0.9441 - val_loss: 0.5103 - val_acc: 0.8554\n",
            "Epoch 41/100\n",
            "50000/50000 [==============================] - 31s 628us/step - loss: 0.1870 - acc: 0.9467 - val_loss: 0.5048 - val_acc: 0.8630\n",
            "Epoch 42/100\n",
            "50000/50000 [==============================] - 31s 627us/step - loss: 0.1854 - acc: 0.9472 - val_loss: 0.5094 - val_acc: 0.8588\n",
            "Epoch 43/100\n",
            "50000/50000 [==============================] - 31s 627us/step - loss: 0.1897 - acc: 0.9451 - val_loss: 0.4983 - val_acc: 0.8625\n",
            "Epoch 44/100\n",
            "50000/50000 [==============================] - 31s 628us/step - loss: 0.1979 - acc: 0.9428 - val_loss: 0.4834 - val_acc: 0.8646\n",
            "Epoch 45/100\n",
            "50000/50000 [==============================] - 31s 627us/step - loss: 0.1886 - acc: 0.9470 - val_loss: 0.5239 - val_acc: 0.8564\n",
            "Epoch 46/100\n",
            "50000/50000 [==============================] - 31s 628us/step - loss: 0.1870 - acc: 0.9465 - val_loss: 0.5301 - val_acc: 0.8578\n",
            "Epoch 47/100\n",
            "50000/50000 [==============================] - 31s 628us/step - loss: 0.1853 - acc: 0.9473 - val_loss: 0.5058 - val_acc: 0.8611\n",
            "Epoch 48/100\n",
            "50000/50000 [==============================] - 31s 628us/step - loss: 0.1823 - acc: 0.9483 - val_loss: 0.5108 - val_acc: 0.8583\n",
            "Epoch 49/100\n",
            "50000/50000 [==============================] - 31s 629us/step - loss: 0.1867 - acc: 0.9470 - val_loss: 0.5154 - val_acc: 0.8573\n",
            "Epoch 50/100\n",
            "50000/50000 [==============================] - 31s 628us/step - loss: 0.1812 - acc: 0.9490 - val_loss: 0.5087 - val_acc: 0.8640\n",
            "Epoch 51/100\n",
            "50000/50000 [==============================] - 31s 628us/step - loss: 0.1798 - acc: 0.9492 - val_loss: 0.5307 - val_acc: 0.8555\n",
            "Epoch 52/100\n",
            "50000/50000 [==============================] - 31s 627us/step - loss: 0.1778 - acc: 0.9493 - val_loss: 0.5099 - val_acc: 0.8584\n",
            "Epoch 53/100\n",
            "50000/50000 [==============================] - 31s 630us/step - loss: 0.1784 - acc: 0.9505 - val_loss: 0.5162 - val_acc: 0.8581\n",
            "Epoch 54/100\n",
            "50000/50000 [==============================] - 31s 626us/step - loss: 0.1833 - acc: 0.9478 - val_loss: 0.5157 - val_acc: 0.8613\n",
            "Epoch 55/100\n",
            "50000/50000 [==============================] - 31s 629us/step - loss: 0.1749 - acc: 0.9516 - val_loss: 0.5417 - val_acc: 0.8558\n",
            "Epoch 56/100\n",
            "50000/50000 [==============================] - 31s 629us/step - loss: 0.1728 - acc: 0.9517 - val_loss: 0.5402 - val_acc: 0.8570\n",
            "Epoch 57/100\n",
            "50000/50000 [==============================] - 31s 628us/step - loss: 0.1735 - acc: 0.9514 - val_loss: 0.5187 - val_acc: 0.8576\n",
            "Epoch 58/100\n",
            "50000/50000 [==============================] - 31s 628us/step - loss: 0.1764 - acc: 0.9512 - val_loss: 0.5369 - val_acc: 0.8545\n",
            "Epoch 59/100\n",
            "50000/50000 [==============================] - 31s 629us/step - loss: 0.1727 - acc: 0.9511 - val_loss: 0.5393 - val_acc: 0.8590\n",
            "Epoch 60/100\n",
            "50000/50000 [==============================] - 31s 626us/step - loss: 0.1737 - acc: 0.9506 - val_loss: 0.5316 - val_acc: 0.8560\n",
            "Epoch 61/100\n",
            "50000/50000 [==============================] - 31s 628us/step - loss: 0.1690 - acc: 0.9535 - val_loss: 0.5334 - val_acc: 0.8574\n",
            "Epoch 62/100\n",
            "50000/50000 [==============================] - 31s 628us/step - loss: 0.1704 - acc: 0.9525 - val_loss: 0.5223 - val_acc: 0.8554\n",
            "Epoch 63/100\n",
            "50000/50000 [==============================] - 31s 626us/step - loss: 0.1726 - acc: 0.9523 - val_loss: 0.5333 - val_acc: 0.8592\n",
            "Epoch 64/100\n",
            "50000/50000 [==============================] - 31s 628us/step - loss: 0.1655 - acc: 0.9539 - val_loss: 0.5427 - val_acc: 0.8569\n",
            "Epoch 65/100\n",
            "50000/50000 [==============================] - 31s 627us/step - loss: 0.1667 - acc: 0.9544 - val_loss: 0.5538 - val_acc: 0.8550\n",
            "Epoch 66/100\n",
            "50000/50000 [==============================] - 31s 627us/step - loss: 0.1759 - acc: 0.9510 - val_loss: 0.5209 - val_acc: 0.8566\n",
            "Epoch 67/100\n",
            "50000/50000 [==============================] - 31s 628us/step - loss: 0.1688 - acc: 0.9533 - val_loss: 0.5325 - val_acc: 0.8583\n",
            "Epoch 68/100\n",
            "50000/50000 [==============================] - 31s 628us/step - loss: 0.1630 - acc: 0.9550 - val_loss: 0.5643 - val_acc: 0.8473\n",
            "Epoch 69/100\n",
            "50000/50000 [==============================] - 31s 628us/step - loss: 0.1733 - acc: 0.9511 - val_loss: 0.5137 - val_acc: 0.8624\n",
            "Epoch 70/100\n",
            "50000/50000 [==============================] - 31s 627us/step - loss: 0.1594 - acc: 0.9572 - val_loss: 0.5450 - val_acc: 0.8551\n",
            "Epoch 71/100\n",
            "50000/50000 [==============================] - 31s 629us/step - loss: 0.1626 - acc: 0.9560 - val_loss: 0.5228 - val_acc: 0.8591\n",
            "Epoch 72/100\n",
            "50000/50000 [==============================] - 31s 629us/step - loss: 0.1646 - acc: 0.9541 - val_loss: 0.5776 - val_acc: 0.8472\n",
            "Epoch 73/100\n",
            "50000/50000 [==============================] - 31s 628us/step - loss: 0.1662 - acc: 0.9540 - val_loss: 0.5226 - val_acc: 0.8579\n",
            "Epoch 74/100\n",
            "50000/50000 [==============================] - 31s 628us/step - loss: 0.1640 - acc: 0.9549 - val_loss: 0.5349 - val_acc: 0.8572\n",
            "Epoch 75/100\n",
            "50000/50000 [==============================] - 31s 628us/step - loss: 0.1578 - acc: 0.9562 - val_loss: 0.5178 - val_acc: 0.8568\n",
            "Epoch 76/100\n",
            "50000/50000 [==============================] - 31s 627us/step - loss: 0.1631 - acc: 0.9553 - val_loss: 0.5422 - val_acc: 0.8543\n",
            "Epoch 77/100\n",
            "50000/50000 [==============================] - 31s 627us/step - loss: 0.1568 - acc: 0.9563 - val_loss: 0.5341 - val_acc: 0.8577\n",
            "Epoch 78/100\n",
            "50000/50000 [==============================] - 31s 628us/step - loss: 0.1609 - acc: 0.9566 - val_loss: 0.5574 - val_acc: 0.8565\n",
            "Epoch 79/100\n",
            "50000/50000 [==============================] - 31s 627us/step - loss: 0.1607 - acc: 0.9561 - val_loss: 0.5326 - val_acc: 0.8582\n",
            "Epoch 80/100\n",
            "50000/50000 [==============================] - 31s 626us/step - loss: 0.1632 - acc: 0.9558 - val_loss: 0.5419 - val_acc: 0.8527\n",
            "Epoch 81/100\n",
            "50000/50000 [==============================] - 31s 627us/step - loss: 0.1570 - acc: 0.9571 - val_loss: 0.5266 - val_acc: 0.8609\n",
            "Epoch 82/100\n",
            "50000/50000 [==============================] - 31s 628us/step - loss: 0.1553 - acc: 0.9582 - val_loss: 0.5263 - val_acc: 0.8627\n",
            "Epoch 83/100\n",
            "50000/50000 [==============================] - 31s 627us/step - loss: 0.1557 - acc: 0.9579 - val_loss: 0.5350 - val_acc: 0.8558\n",
            "Epoch 84/100\n",
            "50000/50000 [==============================] - 31s 628us/step - loss: 0.1601 - acc: 0.9555 - val_loss: 0.5449 - val_acc: 0.8569\n",
            "Epoch 85/100\n",
            "50000/50000 [==============================] - 31s 627us/step - loss: 0.1557 - acc: 0.9577 - val_loss: 0.5453 - val_acc: 0.8576\n",
            "Epoch 86/100\n",
            "50000/50000 [==============================] - 31s 628us/step - loss: 0.1561 - acc: 0.9576 - val_loss: 0.5328 - val_acc: 0.8560\n",
            "Epoch 87/100\n",
            "50000/50000 [==============================] - 31s 628us/step - loss: 0.1553 - acc: 0.9573 - val_loss: 0.5329 - val_acc: 0.8608\n",
            "Epoch 88/100\n",
            "50000/50000 [==============================] - 31s 627us/step - loss: 0.1541 - acc: 0.9584 - val_loss: 0.5517 - val_acc: 0.8544\n",
            "Epoch 89/100\n",
            "50000/50000 [==============================] - 31s 628us/step - loss: 0.1531 - acc: 0.9578 - val_loss: 0.5526 - val_acc: 0.8586\n",
            "Epoch 90/100\n",
            "50000/50000 [==============================] - 31s 627us/step - loss: 0.1522 - acc: 0.9589 - val_loss: 0.5273 - val_acc: 0.8614\n",
            "Epoch 91/100\n",
            "50000/50000 [==============================] - 31s 627us/step - loss: 0.1524 - acc: 0.9580 - val_loss: 0.5625 - val_acc: 0.8500\n",
            "Epoch 92/100\n",
            "50000/50000 [==============================] - 31s 628us/step - loss: 0.1546 - acc: 0.9573 - val_loss: 0.5395 - val_acc: 0.8519\n",
            "Epoch 93/100\n",
            "50000/50000 [==============================] - 31s 628us/step - loss: 0.1520 - acc: 0.9588 - val_loss: 0.5388 - val_acc: 0.8583\n",
            "Epoch 94/100\n",
            "50000/50000 [==============================] - 31s 627us/step - loss: 0.1528 - acc: 0.9588 - val_loss: 0.5369 - val_acc: 0.8604\n",
            "Epoch 95/100\n",
            "50000/50000 [==============================] - 31s 627us/step - loss: 0.1547 - acc: 0.9580 - val_loss: 0.5347 - val_acc: 0.8568\n",
            "Epoch 96/100\n",
            "50000/50000 [==============================] - 31s 625us/step - loss: 0.1485 - acc: 0.9601 - val_loss: 0.5461 - val_acc: 0.8577\n",
            "Epoch 97/100\n",
            "50000/50000 [==============================] - 31s 627us/step - loss: 0.1479 - acc: 0.9597 - val_loss: 0.5417 - val_acc: 0.8578\n",
            "Epoch 98/100\n",
            "50000/50000 [==============================] - 31s 627us/step - loss: 0.1459 - acc: 0.9605 - val_loss: 0.5577 - val_acc: 0.8548\n",
            "Epoch 99/100\n",
            "50000/50000 [==============================] - 31s 627us/step - loss: 0.1518 - acc: 0.9584 - val_loss: 0.5459 - val_acc: 0.8569\n",
            "Epoch 100/100\n",
            "50000/50000 [==============================] - 31s 625us/step - loss: 0.1492 - acc: 0.9596 - val_loss: 0.5359 - val_acc: 0.8569\n"
          ],
          "name": "stdout"
        }
      ]
    },
    {
      "cell_type": "code",
      "metadata": {
        "id": "fh2LgkgjCAAc",
        "colab_type": "code",
        "colab": {}
      },
      "source": [
        "train_acc=model.evaluate(x_train,y_train,batch_size=128)\n",
        "train_acc"
      ],
      "execution_count": 0,
      "outputs": []
    },
    {
      "cell_type": "markdown",
      "metadata": {
        "id": "ubkczKW03G43",
        "colab_type": "text"
      },
      "source": [
        "#**Plot accuracy-epochs plot**"
      ]
    },
    {
      "cell_type": "code",
      "metadata": {
        "id": "7fGtVc5Kshfr",
        "colab_type": "code",
        "colab": {}
      },
      "source": [
        "plot_histogram(history)"
      ],
      "execution_count": 0,
      "outputs": []
    },
    {
      "cell_type": "code",
      "metadata": {
        "id": "YkdizEjzZhef",
        "colab_type": "code",
        "colab": {}
      },
      "source": [
        "from google.colab import files\n",
        "files.download('new_as_of_19:20.txt')"
      ],
      "execution_count": 0,
      "outputs": []
    },
    {
      "cell_type": "code",
      "metadata": {
        "id": "A72U6uikZvhx",
        "colab_type": "code",
        "colab": {}
      },
      "source": [
        "model = save_model('./final_stuff')\n"
      ],
      "execution_count": 0,
      "outputs": []
    },
    {
      "cell_type": "code",
      "metadata": {
        "id": "Pz3a5gtWjnPH",
        "colab_type": "code",
        "colab": {}
      },
      "source": [
        ""
      ],
      "execution_count": 0,
      "outputs": []
    }
  ]
}